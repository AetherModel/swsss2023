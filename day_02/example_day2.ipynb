{
 "cells": [
  {
   "cell_type": "markdown",
   "id": "e17344ab",
   "metadata": {},
   "source": [
    "# Read ASCII File\n",
    "This is an introduction to how to read an ascii file. In this lesson, you will learn how to:\n",
    "1. read an ascii file \n",
    "2. define a function and call it\n",
    "3. make plots with data"
   ]
  },
  {
   "cell_type": "markdown",
   "id": "640eecd8",
   "metadata": {},
   "source": [
    "## General"
   ]
  },
  {
   "cell_type": "markdown",
   "id": "057e3f45",
   "metadata": {},
   "source": [
    "### Import libaries before using them"
   ]
  },
  {
   "cell_type": "code",
   "execution_count": 1,
   "id": "e7f14e62",
   "metadata": {},
   "outputs": [],
   "source": [
    "import numpy as np\n",
    "import pandas as pd\n",
    "import matplotlib.pyplot as plt  # import matplotlib.pyplot\n",
    "import datetime as dt"
   ]
  },
  {
   "cell_type": "markdown",
   "id": "905dbe27",
   "metadata": {},
   "source": [
    "### Some functions to be used: "
   ]
  },
  {
   "cell_type": "markdown",
   "id": "f7c5b83d",
   "metadata": {},
   "source": [
    "####    open(filename, mode, encoding=None)\n",
    "    -- open the file and return a corresponding file object"
   ]
  },
  {
   "cell_type": "markdown",
   "id": "d8a41af0",
   "metadata": {},
   "source": [
    "#### readline()\n",
    "    -- read and return one line from the file (a string)"
   ]
  },
  {
   "cell_type": "markdown",
   "id": "952721b4",
   "metadata": {},
   "source": [
    "#### split()\n",
    "    -- splits a string into a list of substrings."
   ]
  },
  {
   "cell_type": "markdown",
   "id": "39b706e4",
   "metadata": {},
   "source": [
    "### Examples of opening a file"
   ]
  },
  {
   "cell_type": "code",
   "execution_count": 5,
   "id": "2c5b15d1",
   "metadata": {},
   "outputs": [],
   "source": [
    "f = open(\"../data/omni_test.lst\")   # Please note the directory of the file\n",
    "line = f.readline()                 # read one line \n",
    "f.close()                           # remember to close the file!"
   ]
  },
  {
   "cell_type": "code",
   "execution_count": 91,
   "id": "3242559d",
   "metadata": {},
   "outputs": [],
   "source": [
    "with open(\"../data/omni_test.lst\") as f:\n",
    "    line=f.readline()                # read one line \n",
    "    line=f.readline()                # read the second line"
   ]
  },
  {
   "cell_type": "code",
   "execution_count": 6,
   "id": "db52ee7d",
   "metadata": {},
   "outputs": [
    {
     "name": "stdout",
     "output_type": "stream",
     "text": [
      "This is line1\n",
      "\n",
      "This is Line2\n",
      "\n",
      "This is Line3\n",
      "\n",
      "Year  Day  Hour  Minute  SYM-H\n",
      "\n",
      "2013  75  0  0    -7\n",
      "\n",
      "2013  75  0  1    -7\n",
      "\n",
      "2013  75  0  2    -7\n",
      "\n",
      "2013  75  0  3    -8\n",
      "\n",
      "2013  75  0  4    -8\n",
      "\n",
      "2013  75  0  5    -7\n",
      "\n",
      "2013  75  0  6    -7\n",
      "\n",
      "2013  75  0  7    -7\n",
      "\n",
      "2013  75  0  8    -8\n",
      "\n",
      "2013  75  0  9    -8\n",
      "\n"
     ]
    }
   ],
   "source": [
    "with open(\"../data/omni_test.lst\") as f:\n",
    "    for line in f:\n",
    "        print(line)"
   ]
  },
  {
   "cell_type": "markdown",
   "id": "57eead72",
   "metadata": {},
   "source": [
    "Sometimes we need to skip some lines (for example some information at the beginning of the file)."
   ]
  },
  {
   "cell_type": "code",
   "execution_count": 3,
   "id": "0ba1fed1",
   "metadata": {},
   "outputs": [
    {
     "name": "stdout",
     "output_type": "stream",
     "text": [
      "This is line1\n",
      "\n",
      "This is Line2\n",
      "\n",
      "This is Line3\n",
      "\n",
      "['Year', 'Day', 'Hour', 'Minute', 'SYM-H']\n"
     ]
    }
   ],
   "source": [
    "nLines = 3                                 \n",
    "with open(\"../data/omni_test.lst\") as f:\n",
    "    \n",
    "    # Part 1:\n",
    "    # skip lines 1-3\n",
    "    for i in range(nLines):\n",
    "        print(f.readline())\n",
    "    \n",
    "    # Part 2: \n",
    "    # read line 4: read in variables line and \n",
    "    # convert to variable names \n",
    "    header = f.readline() \n",
    "    vars = header.split()\n",
    "    print(vars)\n",
    "    \n",
    "    # Part 3:\n",
    "    # read in data line by line, convert to numerical values  \n",
    "    for line in f:\n",
    "        tmp = line.split()\n",
    "        \n",
    "        # print substrings for each line\n",
    "        # ---- add codes here ----------------\n",
    "\n",
    "        #------------------------------------"
   ]
  },
  {
   "cell_type": "markdown",
   "id": "dfc53f4d",
   "metadata": {},
   "source": [
    "Let's read the file and save the data!"
   ]
  },
  {
   "cell_type": "code",
   "execution_count": 18,
   "id": "eb3f924f",
   "metadata": {},
   "outputs": [
    {
     "name": "stdout",
     "output_type": "stream",
     "text": [
      "This is line1\n",
      "\n",
      "This is Line2\n",
      "\n",
      "This is Line3\n",
      "\n"
     ]
    }
   ],
   "source": [
    "# Define some lists to store the data\n",
    "# year, day, hour, minute, symh\n",
    "# ---- add codes here ----------------\n",
    "\n",
    "#------------------------------------\n",
    " \n",
    "nLines = 3\n",
    "with open(\"../data/omni_test.lst\") as f:\n",
    "    \n",
    "    # Part 1:\n",
    "    # skip lines 1-3\n",
    "    for i in range(nLines):\n",
    "        print(f.readline())\n",
    "    \n",
    "    # Part 2: \n",
    "    # read line 4: read in variables line and \n",
    "    # convert to variable names \n",
    "    header = f.readline() \n",
    "    vars = header.split()\n",
    "    \n",
    "    # Part 3:\n",
    "    # read in data line by line, convert to numerical values  \n",
    "    for line in f:\n",
    "        tmp = line.split()\n",
    "        \n",
    "        # store avariables to lists\n",
    "        # ---- add codes here ----------------\n",
    "\n",
    "        #------------------------------------"
   ]
  },
  {
   "cell_type": "markdown",
   "id": "48b1ec45",
   "metadata": {},
   "source": [
    "### Make a function to read an ASCII file so that we can call it in other places like functions and files."
   ]
  },
  {
   "cell_type": "markdown",
   "id": "e50f51f0",
   "metadata": {},
   "source": [
    "\"A function is a block of code which only runs when it is called.\\\n",
    "You can pass data, known as parameters, into a function.\\\n",
    "A function can return data as a result.\""
   ]
  },
  {
   "cell_type": "code",
   "execution_count": 12,
   "id": "4673976d",
   "metadata": {},
   "outputs": [],
   "source": [
    "# define a function\n",
    "\n",
    "def read_ascii_file(filename,index):\n",
    "    \n",
    "    # part 1: an optional statement \n",
    "    #         - the documentation string of the function or docstring.\n",
    "    \n",
    "    \n",
    "    # part 2: functional code\n",
    "    \n",
    "\n",
    "    # part 3: return results\n",
    "    return"
   ]
  },
  {
   "cell_type": "markdown",
   "id": "59ca8532",
   "metadata": {},
   "source": [
    "Let's call the function to read the file."
   ]
  },
  {
   "cell_type": "code",
   "execution_count": 96,
   "id": "e6c13ace",
   "metadata": {},
   "outputs": [
    {
     "name": "stdout",
     "output_type": "stream",
     "text": [
      "This is line1\n",
      "\n",
      "This is Line2\n",
      "\n",
      "This is Line3\n",
      "\n",
      "[2013, 2013, 2013, 2013, 2013, 2013, 2013, 2013, 2013, 2013]\n",
      "[75, 75, 75, 75, 75, 75, 75, 75, 75, 75]\n",
      "[0, 0, 0, 0, 0, 0, 0, 0, 0, 0]\n",
      "[-7, -7, -7, -8, -8, -7, -7, -7, -8, -8]\n"
     ]
    }
   ],
   "source": [
    "filename = \"../data/omni_test.lst\"\n",
    "index = -1\n",
    "\n",
    "year, day, hour, minute, data = read_ascii_file(filename,index)"
   ]
  },
  {
   "cell_type": "markdown",
   "id": "f2852298",
   "metadata": {},
   "source": [
    "### Introduction to \"datetime\" \n",
    "  -- The datetime module supplies classes for manipulating dates and times (https://docs.python.org/3/library/datetime.html). We can create a datetime.datetime object to contain the year, day of month, month, hour, minute, etc."
   ]
  },
  {
   "cell_type": "markdown",
   "id": "436fa68c",
   "metadata": {},
   "source": [
    "##### -- Some important objects:\n",
    "datetime.datetime(year, month, day, hour=0, minute=0, second=0)\\\n",
    "datetime.timedelta(days=0, seconds=0, microseconds=0, milliseconds=0, minutes=0, hours=0, weeks=0)"
   ]
  },
  {
   "cell_type": "markdown",
   "id": "0a29c53a",
   "metadata": {},
   "source": [
    "Let's try datetime and return a dictionary."
   ]
  },
  {
   "cell_type": "code",
   "execution_count": 15,
   "id": "bcecb7a2",
   "metadata": {},
   "outputs": [],
   "source": [
    "time1 = dt.datetime(2013,1,3, 10,12,30)\n",
    "time2 = dt.datetime(2013,1,1,10,12,30) + dt.timedelta(days = 2)\n"
   ]
  },
  {
   "cell_type": "code",
   "execution_count": 21,
   "id": "2d9f8df1",
   "metadata": {},
   "outputs": [],
   "source": [
    "def read_ascii_file(filename,index):\n",
    "    \"This reads an ascii file of omni data\"\n",
    "    \n",
    "    data = {\"time\":[],\n",
    "           \"symh\":[]}\n",
    "    \n",
    "    nLines = 3\n",
    "    with open(filename) as f:\n",
    "\n",
    "        # Part 1:\n",
    "        # skip lines 1-3\n",
    "        for i in range(nLines):\n",
    "            print(f.readline())\n",
    "\n",
    "        # Part 2: \n",
    "        # read line 4: read in variables line and \n",
    "        # convert to variable names \n",
    "        header = f.readline() \n",
    "        vars = header.split()\n",
    "\n",
    "        # Part 3:\n",
    "        # read in data line by line, convert to numerical values  \n",
    "        for line in f:\n",
    "            tmp = line.split()\n",
    "\n",
    "            # create datetime with year, day, hour, minute        \n",
    "            time0 =dt.datetime(int(tmp[0]),1,1,int(tmp[2]),int(tmp[3]),0)\\\n",
    "                              + dt.timedelta(days=int(tmp[1])-1)\n",
    "            \n",
    "            data[\"time\"].append(time0)\n",
    "            data['symh'].append(int(tmp[index]))\n",
    "    \n",
    "    return data"
   ]
  },
  {
   "cell_type": "code",
   "execution_count": 22,
   "id": "afb52ca8",
   "metadata": {},
   "outputs": [
    {
     "name": "stdout",
     "output_type": "stream",
     "text": [
      "This is line1\n",
      "\n",
      "This is Line2\n",
      "\n",
      "This is Line3\n",
      "\n",
      "{'time': [datetime.datetime(2013, 3, 16, 0, 0), datetime.datetime(2013, 3, 16, 0, 1), datetime.datetime(2013, 3, 16, 0, 2), datetime.datetime(2013, 3, 16, 0, 3), datetime.datetime(2013, 3, 16, 0, 4), datetime.datetime(2013, 3, 16, 0, 5), datetime.datetime(2013, 3, 16, 0, 6), datetime.datetime(2013, 3, 16, 0, 7), datetime.datetime(2013, 3, 16, 0, 8), datetime.datetime(2013, 3, 16, 0, 9)], 'symh': [-7, -7, -7, -8, -8, -7, -7, -7, -8, -8]}\n"
     ]
    }
   ],
   "source": [
    "filename = \"../data/omni_test.lst\"\n",
    "index = -1\n",
    "\n",
    "data_test = read_ascii_file(filename,index)\n",
    "\n",
    "print(data_test)"
   ]
  },
  {
   "cell_type": "markdown",
   "id": "ae80a0d1",
   "metadata": {},
   "source": [
    "### Introduction to matplotlib.pyplot \n",
    "\"-- a collection of functions that make matplotlib work like MATLAB (https://matplotlib.org/stable/tutorials/introductory/pyplot.html). matplotlib.pyplot.plot plots y versus x as lines and/or markers (https://matplotlib.org/stable/api/_as_gen/matplotlib.pyplot.plot.html#matplotlib.pyplot.plot).\" \\\n",
    "We can make a simple plot of symh as a function of the time."
   ]
  },
  {
   "cell_type": "code",
   "execution_count": 23,
   "id": "553bfe1b",
   "metadata": {},
   "outputs": [
    {
     "data": {
      "image/png": "[encoded data removed]",
      "text/plain": [
       "<Figure size 432x288 with 1 Axes>"
      ]
     },
     "metadata": {
      "needs_background": "light"
     },
     "output_type": "display_data"
    }
   ],
   "source": [
    "time = data_test[\"time\"]\n",
    "data1 = data_test[\"symh\"]\n",
    "\n",
    "fig,ax = plt.subplots()\n",
    "\n",
    "ax.plot(time,data1,marker='.',c='r',\n",
    "        label='This is a test',alpha=0.8)\n",
    "\n",
    "ax.set_xlabel('Time')\n",
    "ax.set_ylabel('SYMH (nT)')\n",
    "ax.grid(True)\n",
    "ax.legend()\n",
    "plt.xticks(rotation=40)\n",
    "plt.show() # if use ipython"
   ]
  },
  {
   "cell_type": "markdown",
   "id": "d852717d",
   "metadata": {},
   "source": [
    "### Exercise1 :\n",
    "Read \"omni_min_case_2013.lst\" and plot the symh index as a funtion of the time from March 16-18, 2013. "
   ]
  },
  {
   "cell_type": "markdown",
   "id": "0a9e9eff",
   "metadata": {},
   "source": [
    "### Manipulate dates and times. \n",
    "In practice, we may need to select elements or indices by conditions from numpy array. "
   ]
  },
  {
   "cell_type": "markdown",
   "id": "b4ea6907",
   "metadata": {},
   "source": [
    "Let's select data before March 17 and make a different curve."
   ]
  },
  {
   "cell_type": "code",
   "execution_count": 26,
   "id": "a99085a2",
   "metadata": {},
   "outputs": [
    {
     "data": {
      "image/png": "[encoded data removed]",
      "text/plain": [
       "<Figure size 432x288 with 1 Axes>"
      ]
     },
     "metadata": {
      "needs_background": "light"
     },
     "output_type": "display_data"
    }
   ],
   "source": [
    "fig,ax = plt.subplots()\n",
    "\n",
    "ax.plot(time,data1,marker='.',c='gray',\n",
    "        label='All Events',alpha=0.5)\n",
    "\n",
    "# apply < operator on array, then lp is a bool numpy array \n",
    "time = np.array(time)\n",
    "data1 = np.array(data1)\n",
    "lp = time<dt.datetime(2013,3,17)\n",
    "\n",
    "# pass lp to subscript operator [] \n",
    "# it returns a new array containing elements in the position of True in lp\n",
    "ax.plot(time[lp],data1[lp],marker='+',\n",
    "        linestyle='',\n",
    "        c= 'tab:orange',\n",
    "        label='before March 17',\n",
    "        alpha=0.6)\n",
    "ax.set_xlabel('Year of 2013')\n",
    "ax.set_ylabel('SYMH (nT)')\n",
    "ax.grid(True)\n",
    "ax.legend()\n",
    "plt.show()"
   ]
  },
  {
   "cell_type": "markdown",
   "id": "82169739",
   "metadata": {},
   "source": [
    "### Exercise 2:\n",
    "Select symh < -100 nT, and overplot them with a different color and marker on the curve of all symh events. "
   ]
  }
 ],
 "metadata": {
  "kernelspec": {
   "display_name": "Python 3 (ipykernel)",
   "language": "python",
   "name": "python3"
  },
  "language_info": {
   "codemirror_mode": {
    "name": "ipython",
    "version": 3
   },
   "file_extension": ".py",
   "mimetype": "text/x-python",
   "name": "python",
   "nbconvert_exporter": "python",
   "pygments_lexer": "ipython3",
   "version": "3.9.7"
  }
 },
 "nbformat": 4,
 "nbformat_minor": 5
}
