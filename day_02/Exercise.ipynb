{
 "cells": [
  {
   "cell_type": "markdown",
   "id": "5601237f",
   "metadata": {},
   "source": [
    "# Exercise 1:\n",
    "Read \"omni_min_case_2013.lst\" and plot the symh index as a funtion of the time from March 16-18, 2013.\n",
    "1. make a function to read a file\n",
    "2. read the file and output data\n",
    "3. make the plot"
   ]
  },
  {
   "cell_type": "markdown",
   "id": "a85a99b5",
   "metadata": {},
   "source": [
    "Make a function to read an ascii file so that we can all it in other places like functions and files."
   ]
  },
  {
   "cell_type": "code",
   "execution_count": 71,
   "id": "2d9f8df1",
   "metadata": {},
   "outputs": [],
   "source": [
    "def read_ascii_file_my(filename,index):\n",
    "    \"This reads an ascii file of omni data\"\n",
    "    \n",
    "    # define data (for example, a dictionary) to store variables\n",
    "    \n",
    "    \n",
    "    \n",
    "    # read the ascii file\n",
    "    # 1. do we need to skip any lines?\n",
    "    # 2. read line by line (readline, split, convert data format, etc)\n",
    "    # 3. how to construct datetime\n",
    "    \n",
    "    return data\n",
    "\n",
    "#--- This is the main code ----------------\n",
    "# read \"omni_min_case_2013.lst\"\n",
    "\n",
    "\n",
    "# make a plot of symh as a function of the time\n",
    "\n",
    "\n"
   ]
  },
  {
   "cell_type": "markdown",
   "id": "c7267631",
   "metadata": {},
   "source": [
    "# Exercise 2:\n",
    "Select symh < -100 nT, and overplot them with a different color and marker on the curve of all symh events. "
   ]
  },
  {
   "cell_type": "code",
   "execution_count": 1,
   "id": "47d991c1",
   "metadata": {},
   "outputs": [],
   "source": [
    "# code here"
   ]
  }
 ],
 "metadata": {
  "kernelspec": {
   "display_name": "Python 3 (ipykernel)",
   "language": "python",
   "name": "python3"
  },
  "language_info": {
   "codemirror_mode": {
    "name": "ipython",
    "version": 3
   },
   "file_extension": ".py",
   "mimetype": "text/x-python",
   "name": "python",
   "nbconvert_exporter": "python",
   "pygments_lexer": "ipython3",
   "version": "3.9.7"
  }
 },
 "nbformat": 4,
 "nbformat_minor": 5
}
